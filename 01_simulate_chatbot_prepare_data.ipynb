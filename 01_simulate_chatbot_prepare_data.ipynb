{
 "cells": [
  {
   "cell_type": "code",
   "execution_count": 2,
   "id": "1639bdde",
   "metadata": {},
   "outputs": [
    {
     "name": "stderr",
     "output_type": "stream",
     "text": [
      "c:\\Users\\weixu\\code\\llm_guardrail\\.venv\\Lib\\site-packages\\tqdm\\auto.py:21: TqdmWarning: IProgress not found. Please update jupyter and ipywidgets. See https://ipywidgets.readthedocs.io/en/stable/user_install.html\n",
      "  from .autonotebook import tqdm as notebook_tqdm\n"
     ]
    }
   ],
   "source": [
    "import json\n",
    "import numpy as np\n",
    "import pandas as pd\n",
    "import getpass\n",
    "import os\n",
    "from uuid import uuid4\n",
    "from guardrails.utils import retrieve_context\n",
    "\n",
    "# Set OpenAI API key\n",
    "if not os.environ.get(\"OPENAI_API_KEY\"):\n",
    "    os.environ[\"OPENAI_API_KEY\"] = getpass.getpass(\"Enter API key for OpenAI: \")\n",
    "\n",
    "from langchain_openai import OpenAIEmbeddings\n",
    "import faiss\n",
    "from langchain_community.docstore.in_memory import InMemoryDocstore\n",
    "from langchain_community.vectorstores import FAISS\n",
    "from langchain_core.documents import Document\n",
    "from langchain_community.vectorstores.utils import (\n",
    "    DistanceStrategy\n",
    ")\n",
    "from ragas import evaluate\n",
    "from ragas.metrics import faithfulness, answer_relevancy, context_precision, context_recall, answer_correctness\n"
   ]
  },
  {
   "cell_type": "code",
   "execution_count": null,
   "id": "77d50784",
   "metadata": {},
   "outputs": [],
   "source": [
    "# Load the JSON file into a Pandas DataFrame\n",
    "file_path = \"data/examples.json\"\n",
    "df = pd.read_json(file_path)\n",
    "\n",
    "# Optionally, save the DataFrame to a CSV file\n",
    "df.to_csv(\"data/examples.csv\", index=False)"
   ]
  },
  {
   "cell_type": "markdown",
   "id": "0b57f33a",
   "metadata": {},
   "source": [
    "\n",
    "# ===============================\n",
    "# Similuate the RAG Chat bot to get relevent testing data\n",
    "# ===============================\n"
   ]
  },
  {
   "cell_type": "markdown",
   "id": "4b645bd4",
   "metadata": {},
   "source": [
    "# 1 Load Knowledge Base"
   ]
  },
  {
   "cell_type": "code",
   "execution_count": 9,
   "id": "0423aa9d",
   "metadata": {},
   "outputs": [
    {
     "data": {
      "text/html": [
       "<div>\n",
       "<style scoped>\n",
       "    .dataframe tbody tr th:only-of-type {\n",
       "        vertical-align: middle;\n",
       "    }\n",
       "\n",
       "    .dataframe tbody tr th {\n",
       "        vertical-align: top;\n",
       "    }\n",
       "\n",
       "    .dataframe thead th {\n",
       "        text-align: right;\n",
       "    }\n",
       "</style>\n",
       "<table border=\"1\" class=\"dataframe\">\n",
       "  <thead>\n",
       "    <tr style=\"text-align: right;\">\n",
       "      <th></th>\n",
       "      <th>id</th>\n",
       "      <th>title</th>\n",
       "      <th>category</th>\n",
       "      <th>content</th>\n",
       "    </tr>\n",
       "  </thead>\n",
       "  <tbody>\n",
       "    <tr>\n",
       "      <th>0</th>\n",
       "      <td>prod_001</td>\n",
       "      <td>Platinum Credit Card</td>\n",
       "      <td>Credit Cards</td>\n",
       "      <td>The Platinum Credit Card offers 0% interest on...</td>\n",
       "    </tr>\n",
       "    <tr>\n",
       "      <th>1</th>\n",
       "      <td>prod_002</td>\n",
       "      <td>First Home Buyer Loan</td>\n",
       "      <td>Home Loans</td>\n",
       "      <td>Our First Home Buyer Loan offers a 5.2% fixed ...</td>\n",
       "    </tr>\n",
       "    <tr>\n",
       "      <th>2</th>\n",
       "      <td>prod_003</td>\n",
       "      <td>Everyday Savings Account</td>\n",
       "      <td>Savings Accounts</td>\n",
       "      <td>The Everyday Savings Account provides a compet...</td>\n",
       "    </tr>\n",
       "    <tr>\n",
       "      <th>3</th>\n",
       "      <td>prod_004</td>\n",
       "      <td>Term Deposit 12 months</td>\n",
       "      <td>Term Deposits</td>\n",
       "      <td>Lock in a fixed rate of 5% p.a. for 12 months ...</td>\n",
       "    </tr>\n",
       "    <tr>\n",
       "      <th>4</th>\n",
       "      <td>prod_005</td>\n",
       "      <td>Smart Transaction Account</td>\n",
       "      <td>Transaction Accounts</td>\n",
       "      <td>The Smart Transaction Account offers no monthl...</td>\n",
       "    </tr>\n",
       "  </tbody>\n",
       "</table>\n",
       "</div>"
      ],
      "text/plain": [
       "         id                      title              category  \\\n",
       "0  prod_001       Platinum Credit Card          Credit Cards   \n",
       "1  prod_002      First Home Buyer Loan            Home Loans   \n",
       "2  prod_003   Everyday Savings Account      Savings Accounts   \n",
       "3  prod_004     Term Deposit 12 months         Term Deposits   \n",
       "4  prod_005  Smart Transaction Account  Transaction Accounts   \n",
       "\n",
       "                                             content  \n",
       "0  The Platinum Credit Card offers 0% interest on...  \n",
       "1  Our First Home Buyer Loan offers a 5.2% fixed ...  \n",
       "2  The Everyday Savings Account provides a compet...  \n",
       "3  Lock in a fixed rate of 5% p.a. for 12 months ...  \n",
       "4  The Smart Transaction Account offers no monthl...  "
      ]
     },
     "execution_count": 9,
     "metadata": {},
     "output_type": "execute_result"
    }
   ],
   "source": [
    "with open('data/product_knowledge_base.json', 'r') as f:\n",
    "    knowledge_base = json.load(f)\n",
    "\n",
    "# Create a simple knowledge dataframe\n",
    "kb_df = pd.DataFrame(knowledge_base)\n",
    "kb_df.head()"
   ]
  },
  {
   "cell_type": "markdown",
   "id": "75dec896",
   "metadata": {},
   "source": [
    "# 2.2 Embed Knowledge Base"
   ]
  },
  {
   "cell_type": "code",
   "execution_count": null,
   "id": "aa2362ab",
   "metadata": {},
   "outputs": [],
   "source": [
    "# Initialize OpenAI embeddings\n",
    "embeddings = OpenAIEmbeddings(model=\"text-embedding-3-large\")\n",
    "\n",
    "def score_normalizer(val: float) -> float:\n",
    "    return 1 - 1 / (1 + np.exp(val))\n",
    "\n",
    "if os.path.exists(\"data/faiss_index\"):\n",
    "    vector_store = FAISS.load_local(\"data/faiss_index\", embeddings, allow_dangerous_deserialization=True)\n",
    "else:\n",
    "    # Initialize FAISS index\n",
    "    index = faiss.IndexFlatIP(len(embeddings.embed_query(\"hello world\")))\n",
    "    vector_store = FAISS(\n",
    "        embedding_function=embeddings,\n",
    "        index=index,\n",
    "        docstore=InMemoryDocstore(),\n",
    "        index_to_docstore_id={},\n",
    "        relevance_score_fn = score_normalizer,\n",
    "        distance_strategy=DistanceStrategy.COSINE,\n",
    "    )\n",
    "\n",
    "    # Add knowledge base embeddings to the FAISS index\n",
    "    # Convert knowledge base to Document objects\n",
    "    documents = [\n",
    "        Document(page_content=row[\"content\"], metadata={\"source\": row[\"title\"]})\n",
    "        for _, row in kb_df.iterrows()\n",
    "    ]\n",
    "\n",
    "    # Generate unique IDs for each document\n",
    "    uuids = [str(uuid4()) for _ in range(len(documents))]\n",
    "\n",
    "    # Add documents to the FAISS vector store\n",
    "    vector_store.add_documents(documents=documents, ids=uuids)\n",
    "\n",
    "    vector_store.save_local(\"data/faiss_index\")"
   ]
  },
  {
   "cell_type": "markdown",
   "id": "c43f95cc",
   "metadata": {},
   "source": [
    "# 3 Similate chatbot conversation"
   ]
  },
  {
   "cell_type": "code",
   "execution_count": null,
   "id": "94f79e96",
   "metadata": {},
   "outputs": [],
   "source": [
    "streamlit run chatbot.py"
   ]
  },
  {
   "cell_type": "markdown",
   "id": "91d2a022",
   "metadata": {},
   "source": [
    "# 4 Collect Chatbot Responses"
   ]
  },
  {
   "cell_type": "code",
   "execution_count": null,
   "id": "e7af45de",
   "metadata": {},
   "outputs": [],
   "source": [
    "import json\n",
    "# Load the chat history from the JSON file\n",
    "with open(\"data/chat_history.json\", \"r\", encoding=\"utf-8\") as file:\n",
    "    chat_history = json.load(file)\n",
    "\n",
    "# Convert the chat history to the desired format\n",
    "examples = []\n",
    "for i in range(0, len(chat_history) - 1, 2):\n",
    "    if chat_history[i][\"role\"] == \"user\" and chat_history[i + 1][\"role\"] == \"assistant\":\n",
    "        examples.append({\n",
    "            \"query\": chat_history[i][\"content\"],\n",
    "            \"response\": chat_history[i + 1][\"content\"]\n",
    "        })\n",
    "\n",
    "# Print or save the result\n",
    "print(examples)\n",
    "\n",
    "# Optionally, save the result to a new JSON file\n",
    "with open(\"data/relevent_examples.json\", \"w\", encoding=\"utf-8\") as output_file:\n",
    "    json.dump(examples, output_file, indent=4, ensure_ascii=False)"
   ]
  },
  {
   "cell_type": "markdown",
   "id": "3b5671f9",
   "metadata": {},
   "source": [
    "### manually create the reference data for each questions or use AI to pre-generate the reference data, and then human to verify the answer."
   ]
  },
  {
   "cell_type": "code",
   "execution_count": 5,
   "id": "080a8d74",
   "metadata": {},
   "outputs": [],
   "source": [
    "# examples_reference.json is generated for evaluation\n",
    "# read the examples_reference.json file and convert it to the format required by the evaluation function\n",
    "with open(\"data/relevant_examples_reference.json\", \"r\", encoding=\"utf-8\") as file:\n",
    "    examples = json.load(file)\n",
    "embeddings = OpenAIEmbeddings(model=\"text-embedding-3-large\")\n",
    "vector_store = FAISS.load_local(\"data/faiss_index\", embeddings, allow_dangerous_deserialization=True)\n"
   ]
  },
  {
   "cell_type": "code",
   "execution_count": 6,
   "id": "cb536cf6",
   "metadata": {},
   "outputs": [],
   "source": [
    "# Collect evaluation data\n",
    "records = []\n",
    "for ex in examples_reference:\n",
    "    retrieved_contexts, retrieved_contexts_string = retrieve_context(ex[\"query\"], vector_store=vector_store, top_k=3)\n",
    "    # convert retrieved_contexts to a list of strings with content\n",
    "    retrieved_contexts_list = [context['content'] for context in retrieved_contexts]\n",
    "    similarity = [context['score'] for context in retrieved_contexts]\n",
    "    # average similarity score\n",
    "    similarity = np.mean(similarity) if similarity else 0.0\n",
    "    record = {\n",
    "        \"user_input\": ex[\"query\"],\n",
    "        \"response\": ex[\"response\"],\n",
    "        \"retrieved_contexts\": retrieved_contexts_list,\n",
    "        \"reference\": ex[\"reference\"],\n",
    "        \"similarity\": similarity\n",
    "    }\n",
    "    records.append(record)\n",
    "\n",
    "evaluation_df = pd.DataFrame(records)\n",
    "# save the evaluation data to a CSV file\n",
    "evaluation_df.to_csv(\"data/evaluation_data.csv\", index=False, encoding=\"utf-8-sig\")\n"
   ]
  }
 ],
 "metadata": {
  "kernelspec": {
   "display_name": ".venv",
   "language": "python",
   "name": "python3"
  },
  "language_info": {
   "codemirror_mode": {
    "name": "ipython",
    "version": 3
   },
   "file_extension": ".py",
   "mimetype": "text/x-python",
   "name": "python",
   "nbconvert_exporter": "python",
   "pygments_lexer": "ipython3",
   "version": "3.12.10"
  }
 },
 "nbformat": 4,
 "nbformat_minor": 5
}
